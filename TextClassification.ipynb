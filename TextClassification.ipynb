{
 "cells": [
  {
   "cell_type": "code",
   "execution_count": 1,
   "metadata": {},
   "outputs": [],
   "source": [
    "import numpy as np\n",
    "from scipy.sparse import csc_matrix, hstack\n",
    "#Loading the data set - training data.\n",
    "from sklearn.datasets import fetch_20newsgroups\n",
    "train = fetch_20newsgroups(random_state=1,\n",
    "                           subset='train',\n",
    "                                          )\n",
    "test = fetch_20newsgroups(random_state=1,\n",
    "                          subset='test',\n",
    "                           )"
   ]
  },
  {
   "cell_type": "code",
   "execution_count": 2,
   "metadata": {},
   "outputs": [],
   "source": [
    "import pandas as pd\n",
    "#read preprocessed data and remove the row index column\n",
    "train_posts_embed=pd.read_csv(\"train_posts_embed.csv\",sep=\"~\").iloc[:,1:513]\n",
    "test_posts_embed=pd.read_csv(\"test_posts_embed.csv\",sep=\"~\").iloc[:,1:513]\n",
    "test_posts_embed=csc_matrix(test_posts_embed)\n",
    "train_posts_embed=csc_matrix(train_posts_embed)\n"
   ]
  },
  {
   "cell_type": "code",
   "execution_count": 3,
   "metadata": {},
   "outputs": [],
   "source": [
    "# Extracting features from text files\n",
    "from sklearn.feature_extraction.text import CountVectorizer,TfidfTransformer\n",
    "from sklearn.pipeline import Pipeline\n",
    "text_clf = Pipeline([('vect', CountVectorizer(ngram_range= (1, 2),max_features=200000)), ('tfidf', TfidfTransformer(use_idf=True))])\n",
    "X_train_tfidf = text_clf.fit_transform(train.data)\n",
    "X_test_tfidf=text_clf.transform(test.data)"
   ]
  },
  {
   "cell_type": "markdown",
   "metadata": {},
   "source": [
    "# Support vector machine (SVM) classifier"
   ]
  },
  {
   "cell_type": "code",
   "execution_count": 4,
   "metadata": {},
   "outputs": [
    {
     "data": {
      "text/plain": [
       "<11314x200000 sparse matrix of type '<class 'numpy.float64'>'\n",
       "\twith 3489004 stored elements in Compressed Sparse Row format>"
      ]
     },
     "execution_count": 4,
     "metadata": {},
     "output_type": "execute_result"
    }
   ],
   "source": [
    "X_train_tfidf"
   ]
  },
  {
   "cell_type": "code",
   "execution_count": 5,
   "metadata": {},
   "outputs": [
    {
     "data": {
      "text/plain": [
       "0.8364312267657993"
      ]
     },
     "execution_count": 5,
     "metadata": {},
     "output_type": "execute_result"
    }
   ],
   "source": [
    "from sklearn.linear_model import SGDClassifier\n",
    "svm=SGDClassifier(loss='hinge', penalty='l2',alpha=1e-3,max_iter=60, random_state=42)\n",
    "svm.fit(X_train_tfidf, train.target)\n",
    "predicted = svm.predict(X_test_tfidf)\n",
    "np.mean(predicted == test.target)\n",
    "\n",
    "\n",
    "#Out[5]:\n",
    "#0.8364312267657993"
   ]
  },
  {
   "cell_type": "code",
   "execution_count": 6,
   "metadata": {},
   "outputs": [],
   "source": [
    "num_labels=20"
   ]
  },
  {
   "cell_type": "code",
   "execution_count": 7,
   "metadata": {},
   "outputs": [],
   "source": [
    "from sklearn.preprocessing import LabelBinarizer\n",
    "encoder = LabelBinarizer()\n",
    "encoder.fit(train.target)\n",
    "y_train = encoder.transform( train.target)\n",
    "y_test = encoder.transform( test.target)"
   ]
  },
  {
   "cell_type": "code",
   "execution_count": 8,
   "metadata": {},
   "outputs": [],
   "source": [
    "#Merge text embeded datasets and tfidf datasets\n",
    "train_posts=hstack([train_posts_embed,X_train_tfidf]).todense()\n",
    "test_posts=hstack([test_posts_embed,X_test_tfidf]).todense()"
   ]
  },
  {
   "cell_type": "markdown",
   "metadata": {},
   "source": [
    "# DNN Classifier\n"
   ]
  },
  {
   "cell_type": "code",
   "execution_count": 9,
   "metadata": {},
   "outputs": [
    {
     "name": "stderr",
     "output_type": "stream",
     "text": [
      "Using TensorFlow backend.\n"
     ]
    },
    {
     "name": "stdout",
     "output_type": "stream",
     "text": [
      "_________________________________________________________________\n",
      "Layer (type)                 Output Shape              Param #   \n",
      "=================================================================\n",
      "dense_1 (Dense)              (None, 256)               51331328  \n",
      "_________________________________________________________________\n",
      "activation_1 (Activation)    (None, 256)               0         \n",
      "_________________________________________________________________\n",
      "dropout_1 (Dropout)          (None, 256)               0         \n",
      "_________________________________________________________________\n",
      "dense_2 (Dense)              (None, 64)                16448     \n",
      "_________________________________________________________________\n",
      "activation_2 (Activation)    (None, 64)                0         \n",
      "_________________________________________________________________\n",
      "dropout_2 (Dropout)          (None, 64)                0         \n",
      "_________________________________________________________________\n",
      "dense_3 (Dense)              (None, 20)                1300      \n",
      "_________________________________________________________________\n",
      "activation_3 (Activation)    (None, 20)                0         \n",
      "=================================================================\n",
      "Total params: 51,349,076\n",
      "Trainable params: 51,349,076\n",
      "Non-trainable params: 0\n",
      "_________________________________________________________________\n"
     ]
    }
   ],
   "source": [
    "from keras.models import Sequential\n",
    "from keras.layers import Activation, Dense, Dropout\n",
    "model = Sequential()\n",
    "model.add(Dense(256, input_shape=(train_posts.shape[1],)))\n",
    "model.add(Activation('relu'))\n",
    "model.add(Dropout(0.3))\n",
    "model.add(Dense(64))\n",
    "model.add(Activation('relu'))\n",
    "model.add(Dropout(0.3))\n",
    "model.add(Dense(num_labels))\n",
    "model.add(Activation('softmax'))\n",
    "model.summary()\n",
    " \n",
    "model.compile(loss='categorical_crossentropy',\n",
    "              optimizer='adam',\n",
    "              metrics=['accuracy'])"
   ]
  },
  {
   "cell_type": "code",
   "execution_count": 10,
   "metadata": {},
   "outputs": [
    {
     "name": "stdout",
     "output_type": "stream",
     "text": [
      "Epoch 1/2\n",
      "80/80 [==============================] - 2724s 34s/step - loss: 0.8221 - acc: 0.8835\n",
      "Epoch 2/2\n",
      "80/80 [==============================] - 2483s 31s/step - loss: 0.0224 - acc: 0.9986\n"
     ]
    }
   ],
   "source": [
    "history = model.fit(train_posts, y_train,\n",
    "                    steps_per_epoch=80,\n",
    "                    epochs=2,\n",
    "                    verbose=1)\n",
    "                   # validation_steps=1,\n",
    "                   # validation_split=0.2)\n",
    "                   # validation_data= (test_posts, y_test))\n",
    " \n",
    "\n",
    "#Epoch 1/2\n",
    "#80/80 [==============================] - 2724s 34s/step - loss: 0.8221 - acc: 0.8835\n",
    "#Epoch 2/2\n",
    "#80/80 [==============================] - 2483s 31s/step - loss: 0.0224 - acc: 0.9986"
   ]
  },
  {
   "cell_type": "code",
   "execution_count": 12,
   "metadata": {},
   "outputs": [
    {
     "name": "stdout",
     "output_type": "stream",
     "text": [
      "7532/7532 [==============================] - 41s 5ms/step\n",
      "Test accuracy: 0.8647105682421667\n"
     ]
    }
   ],
   "source": [
    "\n",
    "score = model.evaluate(test_posts, y_test,\n",
    "                        verbose=1,batch_size=500)\n",
    " \n",
    "print('Test accuracy:', score[1])\n",
    "\n",
    "\n",
    "#7532/7532 [==============================] - 41s 5ms/step\n",
    "#Test accuracy: 0.8647105682421667"
   ]
  },
  {
   "cell_type": "code",
   "execution_count": null,
   "metadata": {},
   "outputs": [],
   "source": []
  }
 ],
 "metadata": {
  "kernelspec": {
   "display_name": "Python 3",
   "language": "python",
   "name": "python3"
  },
  "language_info": {
   "codemirror_mode": {
    "name": "ipython",
    "version": 3
   },
   "file_extension": ".py",
   "mimetype": "text/x-python",
   "name": "python",
   "nbconvert_exporter": "python",
   "pygments_lexer": "ipython3",
   "version": "3.5.6"
  }
 },
 "nbformat": 4,
 "nbformat_minor": 2
}
