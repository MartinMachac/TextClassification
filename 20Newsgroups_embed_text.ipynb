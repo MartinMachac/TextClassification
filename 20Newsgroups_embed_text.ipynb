{
 "cells": [
  {
   "cell_type": "code",
   "execution_count": 1,
   "metadata": {},
   "outputs": [
    {
     "name": "stderr",
     "output_type": "stream",
     "text": [
      "C:\\Anaconda\\lib\\site-packages\\h5py\\__init__.py:36: FutureWarning: Conversion of the second argument of issubdtype from `float` to `np.floating` is deprecated. In future, it will be treated as `np.float64 == np.dtype(float).type`.\n",
      "  from ._conv import register_converters as _register_converters\n",
      "Using TensorFlow backend.\n"
     ]
    },
    {
     "name": "stdout",
     "output_type": "stream",
     "text": [
      "INFO:tensorflow:Using C:\\Users\\manga\\AppData\\Local\\Temp\\2\\tfhub_modules to cache modules.\n",
      "INFO:tensorflow:Initialize variable module/Embeddings_en/sharded_0:0 from checkpoint b'C:\\\\Users\\\\manga\\\\AppData\\\\Local\\\\Temp\\\\2\\\\tfhub_modules\\\\5e9bdcf4cda50fd3580da34bbf325504803cc22b\\\\variables\\\\variables' with Embeddings_en/sharded_0\n",
      "INFO:tensorflow:Initialize variable module/Embeddings_en/sharded_1:0 from checkpoint b'C:\\\\Users\\\\manga\\\\AppData\\\\Local\\\\Temp\\\\2\\\\tfhub_modules\\\\5e9bdcf4cda50fd3580da34bbf325504803cc22b\\\\variables\\\\variables' with Embeddings_en/sharded_1\n",
      "INFO:tensorflow:Initialize variable module/Embeddings_en/sharded_10:0 from checkpoint b'C:\\\\Users\\\\manga\\\\AppData\\\\Local\\\\Temp\\\\2\\\\tfhub_modules\\\\5e9bdcf4cda50fd3580da34bbf325504803cc22b\\\\variables\\\\variables' with Embeddings_en/sharded_10\n",
      "INFO:tensorflow:Initialize variable module/Embeddings_en/sharded_11:0 from checkpoint b'C:\\\\Users\\\\manga\\\\AppData\\\\Local\\\\Temp\\\\2\\\\tfhub_modules\\\\5e9bdcf4cda50fd3580da34bbf325504803cc22b\\\\variables\\\\variables' with Embeddings_en/sharded_11\n",
      "INFO:tensorflow:Initialize variable module/Embeddings_en/sharded_12:0 from checkpoint b'C:\\\\Users\\\\manga\\\\AppData\\\\Local\\\\Temp\\\\2\\\\tfhub_modules\\\\5e9bdcf4cda50fd3580da34bbf325504803cc22b\\\\variables\\\\variables' with Embeddings_en/sharded_12\n",
      "INFO:tensorflow:Initialize variable module/Embeddings_en/sharded_13:0 from checkpoint b'C:\\\\Users\\\\manga\\\\AppData\\\\Local\\\\Temp\\\\2\\\\tfhub_modules\\\\5e9bdcf4cda50fd3580da34bbf325504803cc22b\\\\variables\\\\variables' with Embeddings_en/sharded_13\n",
      "INFO:tensorflow:Initialize variable module/Embeddings_en/sharded_14:0 from checkpoint b'C:\\\\Users\\\\manga\\\\AppData\\\\Local\\\\Temp\\\\2\\\\tfhub_modules\\\\5e9bdcf4cda50fd3580da34bbf325504803cc22b\\\\variables\\\\variables' with Embeddings_en/sharded_14\n",
      "INFO:tensorflow:Initialize variable module/Embeddings_en/sharded_15:0 from checkpoint b'C:\\\\Users\\\\manga\\\\AppData\\\\Local\\\\Temp\\\\2\\\\tfhub_modules\\\\5e9bdcf4cda50fd3580da34bbf325504803cc22b\\\\variables\\\\variables' with Embeddings_en/sharded_15\n",
      "INFO:tensorflow:Initialize variable module/Embeddings_en/sharded_16:0 from checkpoint b'C:\\\\Users\\\\manga\\\\AppData\\\\Local\\\\Temp\\\\2\\\\tfhub_modules\\\\5e9bdcf4cda50fd3580da34bbf325504803cc22b\\\\variables\\\\variables' with Embeddings_en/sharded_16\n",
      "INFO:tensorflow:Initialize variable module/Embeddings_en/sharded_2:0 from checkpoint b'C:\\\\Users\\\\manga\\\\AppData\\\\Local\\\\Temp\\\\2\\\\tfhub_modules\\\\5e9bdcf4cda50fd3580da34bbf325504803cc22b\\\\variables\\\\variables' with Embeddings_en/sharded_2\n",
      "INFO:tensorflow:Initialize variable module/Embeddings_en/sharded_3:0 from checkpoint b'C:\\\\Users\\\\manga\\\\AppData\\\\Local\\\\Temp\\\\2\\\\tfhub_modules\\\\5e9bdcf4cda50fd3580da34bbf325504803cc22b\\\\variables\\\\variables' with Embeddings_en/sharded_3\n",
      "INFO:tensorflow:Initialize variable module/Embeddings_en/sharded_4:0 from checkpoint b'C:\\\\Users\\\\manga\\\\AppData\\\\Local\\\\Temp\\\\2\\\\tfhub_modules\\\\5e9bdcf4cda50fd3580da34bbf325504803cc22b\\\\variables\\\\variables' with Embeddings_en/sharded_4\n",
      "INFO:tensorflow:Initialize variable module/Embeddings_en/sharded_5:0 from checkpoint b'C:\\\\Users\\\\manga\\\\AppData\\\\Local\\\\Temp\\\\2\\\\tfhub_modules\\\\5e9bdcf4cda50fd3580da34bbf325504803cc22b\\\\variables\\\\variables' with Embeddings_en/sharded_5\n",
      "INFO:tensorflow:Initialize variable module/Embeddings_en/sharded_6:0 from checkpoint b'C:\\\\Users\\\\manga\\\\AppData\\\\Local\\\\Temp\\\\2\\\\tfhub_modules\\\\5e9bdcf4cda50fd3580da34bbf325504803cc22b\\\\variables\\\\variables' with Embeddings_en/sharded_6\n",
      "INFO:tensorflow:Initialize variable module/Embeddings_en/sharded_7:0 from checkpoint b'C:\\\\Users\\\\manga\\\\AppData\\\\Local\\\\Temp\\\\2\\\\tfhub_modules\\\\5e9bdcf4cda50fd3580da34bbf325504803cc22b\\\\variables\\\\variables' with Embeddings_en/sharded_7\n",
      "INFO:tensorflow:Initialize variable module/Embeddings_en/sharded_8:0 from checkpoint b'C:\\\\Users\\\\manga\\\\AppData\\\\Local\\\\Temp\\\\2\\\\tfhub_modules\\\\5e9bdcf4cda50fd3580da34bbf325504803cc22b\\\\variables\\\\variables' with Embeddings_en/sharded_8\n",
      "INFO:tensorflow:Initialize variable module/Embeddings_en/sharded_9:0 from checkpoint b'C:\\\\Users\\\\manga\\\\AppData\\\\Local\\\\Temp\\\\2\\\\tfhub_modules\\\\5e9bdcf4cda50fd3580da34bbf325504803cc22b\\\\variables\\\\variables' with Embeddings_en/sharded_9\n",
      "INFO:tensorflow:Initialize variable module/Encoder_en/Transformer/TransformerEncodeFast/encoder/layer_0/ffn/conv1/bias:0 from checkpoint b'C:\\\\Users\\\\manga\\\\AppData\\\\Local\\\\Temp\\\\2\\\\tfhub_modules\\\\5e9bdcf4cda50fd3580da34bbf325504803cc22b\\\\variables\\\\variables' with Encoder_en/Transformer/TransformerEncodeFast/encoder/layer_0/ffn/conv1/bias\n",
      "INFO:tensorflow:Initialize variable module/Encoder_en/Transformer/TransformerEncodeFast/encoder/layer_0/ffn/conv1/kernel:0 from checkpoint b'C:\\\\Users\\\\manga\\\\AppData\\\\Local\\\\Temp\\\\2\\\\tfhub_modules\\\\5e9bdcf4cda50fd3580da34bbf325504803cc22b\\\\variables\\\\variables' with Encoder_en/Transformer/TransformerEncodeFast/encoder/layer_0/ffn/conv1/kernel\n",
      "INFO:tensorflow:Initialize variable module/Encoder_en/Transformer/TransformerEncodeFast/encoder/layer_0/ffn/conv2/bias:0 from checkpoint b'C:\\\\Users\\\\manga\\\\AppData\\\\Local\\\\Temp\\\\2\\\\tfhub_modules\\\\5e9bdcf4cda50fd3580da34bbf325504803cc22b\\\\variables\\\\variables' with Encoder_en/Transformer/TransformerEncodeFast/encoder/layer_0/ffn/conv2/bias\n",
      "INFO:tensorflow:Initialize variable module/Encoder_en/Transformer/TransformerEncodeFast/encoder/layer_0/ffn/conv2/kernel:0 from checkpoint b'C:\\\\Users\\\\manga\\\\AppData\\\\Local\\\\Temp\\\\2\\\\tfhub_modules\\\\5e9bdcf4cda50fd3580da34bbf325504803cc22b\\\\variables\\\\variables' with Encoder_en/Transformer/TransformerEncodeFast/encoder/layer_0/ffn/conv2/kernel\n",
      "INFO:tensorflow:Initialize variable module/Encoder_en/Transformer/TransformerEncodeFast/encoder/layer_0/ffn/layer_prepostprocess/layer_norm/layer_norm_bias:0 from checkpoint b'C:\\\\Users\\\\manga\\\\AppData\\\\Local\\\\Temp\\\\2\\\\tfhub_modules\\\\5e9bdcf4cda50fd3580da34bbf325504803cc22b\\\\variables\\\\variables' with Encoder_en/Transformer/TransformerEncodeFast/encoder/layer_0/ffn/layer_prepostprocess/layer_norm/layer_norm_bias\n",
      "INFO:tensorflow:Initialize variable module/Encoder_en/Transformer/TransformerEncodeFast/encoder/layer_0/ffn/layer_prepostprocess/layer_norm/layer_norm_scale:0 from checkpoint b'C:\\\\Users\\\\manga\\\\AppData\\\\Local\\\\Temp\\\\2\\\\tfhub_modules\\\\5e9bdcf4cda50fd3580da34bbf325504803cc22b\\\\variables\\\\variables' with Encoder_en/Transformer/TransformerEncodeFast/encoder/layer_0/ffn/layer_prepostprocess/layer_norm/layer_norm_scale\n",
      "INFO:tensorflow:Initialize variable module/Encoder_en/Transformer/TransformerEncodeFast/encoder/layer_0/self_attention/layer_prepostprocess/layer_norm/layer_norm_bias:0 from checkpoint b'C:\\\\Users\\\\manga\\\\AppData\\\\Local\\\\Temp\\\\2\\\\tfhub_modules\\\\5e9bdcf4cda50fd3580da34bbf325504803cc22b\\\\variables\\\\variables' with Encoder_en/Transformer/TransformerEncodeFast/encoder/layer_0/self_attention/layer_prepostprocess/layer_norm/layer_norm_bias\n",
      "INFO:tensorflow:Initialize variable module/Encoder_en/Transformer/TransformerEncodeFast/encoder/layer_0/self_attention/layer_prepostprocess/layer_norm/layer_norm_scale:0 from checkpoint b'C:\\\\Users\\\\manga\\\\AppData\\\\Local\\\\Temp\\\\2\\\\tfhub_modules\\\\5e9bdcf4cda50fd3580da34bbf325504803cc22b\\\\variables\\\\variables' with Encoder_en/Transformer/TransformerEncodeFast/encoder/layer_0/self_attention/layer_prepostprocess/layer_norm/layer_norm_scale\n",
      "INFO:tensorflow:Initialize variable module/Encoder_en/Transformer/TransformerEncodeFast/encoder/layer_0/self_attention/multihead_attention/k/kernel:0 from checkpoint b'C:\\\\Users\\\\manga\\\\AppData\\\\Local\\\\Temp\\\\2\\\\tfhub_modules\\\\5e9bdcf4cda50fd3580da34bbf325504803cc22b\\\\variables\\\\variables' with Encoder_en/Transformer/TransformerEncodeFast/encoder/layer_0/self_attention/multihead_attention/k/kernel\n",
      "INFO:tensorflow:Initialize variable module/Encoder_en/Transformer/TransformerEncodeFast/encoder/layer_0/self_attention/multihead_attention/output_transform/kernel:0 from checkpoint b'C:\\\\Users\\\\manga\\\\AppData\\\\Local\\\\Temp\\\\2\\\\tfhub_modules\\\\5e9bdcf4cda50fd3580da34bbf325504803cc22b\\\\variables\\\\variables' with Encoder_en/Transformer/TransformerEncodeFast/encoder/layer_0/self_attention/multihead_attention/output_transform/kernel\n",
      "INFO:tensorflow:Initialize variable module/Encoder_en/Transformer/TransformerEncodeFast/encoder/layer_0/self_attention/multihead_attention/q/kernel:0 from checkpoint b'C:\\\\Users\\\\manga\\\\AppData\\\\Local\\\\Temp\\\\2\\\\tfhub_modules\\\\5e9bdcf4cda50fd3580da34bbf325504803cc22b\\\\variables\\\\variables' with Encoder_en/Transformer/TransformerEncodeFast/encoder/layer_0/self_attention/multihead_attention/q/kernel\n"
     ]
    },
    {
     "name": "stdout",
     "output_type": "stream",
     "text": [
      "INFO:tensorflow:Initialize variable module/Encoder_en/Transformer/TransformerEncodeFast/encoder/layer_0/self_attention/multihead_attention/v/kernel:0 from checkpoint b'C:\\\\Users\\\\manga\\\\AppData\\\\Local\\\\Temp\\\\2\\\\tfhub_modules\\\\5e9bdcf4cda50fd3580da34bbf325504803cc22b\\\\variables\\\\variables' with Encoder_en/Transformer/TransformerEncodeFast/encoder/layer_0/self_attention/multihead_attention/v/kernel\n",
      "INFO:tensorflow:Initialize variable module/Encoder_en/Transformer/TransformerEncodeFast/encoder/layer_1/ffn/conv1/bias:0 from checkpoint b'C:\\\\Users\\\\manga\\\\AppData\\\\Local\\\\Temp\\\\2\\\\tfhub_modules\\\\5e9bdcf4cda50fd3580da34bbf325504803cc22b\\\\variables\\\\variables' with Encoder_en/Transformer/TransformerEncodeFast/encoder/layer_1/ffn/conv1/bias\n",
      "INFO:tensorflow:Initialize variable module/Encoder_en/Transformer/TransformerEncodeFast/encoder/layer_1/ffn/conv1/kernel:0 from checkpoint b'C:\\\\Users\\\\manga\\\\AppData\\\\Local\\\\Temp\\\\2\\\\tfhub_modules\\\\5e9bdcf4cda50fd3580da34bbf325504803cc22b\\\\variables\\\\variables' with Encoder_en/Transformer/TransformerEncodeFast/encoder/layer_1/ffn/conv1/kernel\n",
      "INFO:tensorflow:Initialize variable module/Encoder_en/Transformer/TransformerEncodeFast/encoder/layer_1/ffn/conv2/bias:0 from checkpoint b'C:\\\\Users\\\\manga\\\\AppData\\\\Local\\\\Temp\\\\2\\\\tfhub_modules\\\\5e9bdcf4cda50fd3580da34bbf325504803cc22b\\\\variables\\\\variables' with Encoder_en/Transformer/TransformerEncodeFast/encoder/layer_1/ffn/conv2/bias\n",
      "INFO:tensorflow:Initialize variable module/Encoder_en/Transformer/TransformerEncodeFast/encoder/layer_1/ffn/conv2/kernel:0 from checkpoint b'C:\\\\Users\\\\manga\\\\AppData\\\\Local\\\\Temp\\\\2\\\\tfhub_modules\\\\5e9bdcf4cda50fd3580da34bbf325504803cc22b\\\\variables\\\\variables' with Encoder_en/Transformer/TransformerEncodeFast/encoder/layer_1/ffn/conv2/kernel\n",
      "INFO:tensorflow:Initialize variable module/Encoder_en/Transformer/TransformerEncodeFast/encoder/layer_1/ffn/layer_prepostprocess/layer_norm/layer_norm_bias:0 from checkpoint b'C:\\\\Users\\\\manga\\\\AppData\\\\Local\\\\Temp\\\\2\\\\tfhub_modules\\\\5e9bdcf4cda50fd3580da34bbf325504803cc22b\\\\variables\\\\variables' with Encoder_en/Transformer/TransformerEncodeFast/encoder/layer_1/ffn/layer_prepostprocess/layer_norm/layer_norm_bias\n",
      "INFO:tensorflow:Initialize variable module/Encoder_en/Transformer/TransformerEncodeFast/encoder/layer_1/ffn/layer_prepostprocess/layer_norm/layer_norm_scale:0 from checkpoint b'C:\\\\Users\\\\manga\\\\AppData\\\\Local\\\\Temp\\\\2\\\\tfhub_modules\\\\5e9bdcf4cda50fd3580da34bbf325504803cc22b\\\\variables\\\\variables' with Encoder_en/Transformer/TransformerEncodeFast/encoder/layer_1/ffn/layer_prepostprocess/layer_norm/layer_norm_scale\n",
      "INFO:tensorflow:Initialize variable module/Encoder_en/Transformer/TransformerEncodeFast/encoder/layer_1/self_attention/layer_prepostprocess/layer_norm/layer_norm_bias:0 from checkpoint b'C:\\\\Users\\\\manga\\\\AppData\\\\Local\\\\Temp\\\\2\\\\tfhub_modules\\\\5e9bdcf4cda50fd3580da34bbf325504803cc22b\\\\variables\\\\variables' with Encoder_en/Transformer/TransformerEncodeFast/encoder/layer_1/self_attention/layer_prepostprocess/layer_norm/layer_norm_bias\n",
      "INFO:tensorflow:Initialize variable module/Encoder_en/Transformer/TransformerEncodeFast/encoder/layer_1/self_attention/layer_prepostprocess/layer_norm/layer_norm_scale:0 from checkpoint b'C:\\\\Users\\\\manga\\\\AppData\\\\Local\\\\Temp\\\\2\\\\tfhub_modules\\\\5e9bdcf4cda50fd3580da34bbf325504803cc22b\\\\variables\\\\variables' with Encoder_en/Transformer/TransformerEncodeFast/encoder/layer_1/self_attention/layer_prepostprocess/layer_norm/layer_norm_scale\n",
      "INFO:tensorflow:Initialize variable module/Encoder_en/Transformer/TransformerEncodeFast/encoder/layer_1/self_attention/multihead_attention/k/kernel:0 from checkpoint b'C:\\\\Users\\\\manga\\\\AppData\\\\Local\\\\Temp\\\\2\\\\tfhub_modules\\\\5e9bdcf4cda50fd3580da34bbf325504803cc22b\\\\variables\\\\variables' with Encoder_en/Transformer/TransformerEncodeFast/encoder/layer_1/self_attention/multihead_attention/k/kernel\n",
      "INFO:tensorflow:Initialize variable module/Encoder_en/Transformer/TransformerEncodeFast/encoder/layer_1/self_attention/multihead_attention/output_transform/kernel:0 from checkpoint b'C:\\\\Users\\\\manga\\\\AppData\\\\Local\\\\Temp\\\\2\\\\tfhub_modules\\\\5e9bdcf4cda50fd3580da34bbf325504803cc22b\\\\variables\\\\variables' with Encoder_en/Transformer/TransformerEncodeFast/encoder/layer_1/self_attention/multihead_attention/output_transform/kernel\n",
      "INFO:tensorflow:Initialize variable module/Encoder_en/Transformer/TransformerEncodeFast/encoder/layer_1/self_attention/multihead_attention/q/kernel:0 from checkpoint b'C:\\\\Users\\\\manga\\\\AppData\\\\Local\\\\Temp\\\\2\\\\tfhub_modules\\\\5e9bdcf4cda50fd3580da34bbf325504803cc22b\\\\variables\\\\variables' with Encoder_en/Transformer/TransformerEncodeFast/encoder/layer_1/self_attention/multihead_attention/q/kernel\n",
      "INFO:tensorflow:Initialize variable module/Encoder_en/Transformer/TransformerEncodeFast/encoder/layer_1/self_attention/multihead_attention/v/kernel:0 from checkpoint b'C:\\\\Users\\\\manga\\\\AppData\\\\Local\\\\Temp\\\\2\\\\tfhub_modules\\\\5e9bdcf4cda50fd3580da34bbf325504803cc22b\\\\variables\\\\variables' with Encoder_en/Transformer/TransformerEncodeFast/encoder/layer_1/self_attention/multihead_attention/v/kernel\n",
      "INFO:tensorflow:Initialize variable module/Encoder_en/Transformer/TransformerEncodeFast/encoder/layer_2/ffn/conv1/bias:0 from checkpoint b'C:\\\\Users\\\\manga\\\\AppData\\\\Local\\\\Temp\\\\2\\\\tfhub_modules\\\\5e9bdcf4cda50fd3580da34bbf325504803cc22b\\\\variables\\\\variables' with Encoder_en/Transformer/TransformerEncodeFast/encoder/layer_2/ffn/conv1/bias\n",
      "INFO:tensorflow:Initialize variable module/Encoder_en/Transformer/TransformerEncodeFast/encoder/layer_2/ffn/conv1/kernel:0 from checkpoint b'C:\\\\Users\\\\manga\\\\AppData\\\\Local\\\\Temp\\\\2\\\\tfhub_modules\\\\5e9bdcf4cda50fd3580da34bbf325504803cc22b\\\\variables\\\\variables' with Encoder_en/Transformer/TransformerEncodeFast/encoder/layer_2/ffn/conv1/kernel\n",
      "INFO:tensorflow:Initialize variable module/Encoder_en/Transformer/TransformerEncodeFast/encoder/layer_2/ffn/conv2/bias:0 from checkpoint b'C:\\\\Users\\\\manga\\\\AppData\\\\Local\\\\Temp\\\\2\\\\tfhub_modules\\\\5e9bdcf4cda50fd3580da34bbf325504803cc22b\\\\variables\\\\variables' with Encoder_en/Transformer/TransformerEncodeFast/encoder/layer_2/ffn/conv2/bias\n",
      "INFO:tensorflow:Initialize variable module/Encoder_en/Transformer/TransformerEncodeFast/encoder/layer_2/ffn/conv2/kernel:0 from checkpoint b'C:\\\\Users\\\\manga\\\\AppData\\\\Local\\\\Temp\\\\2\\\\tfhub_modules\\\\5e9bdcf4cda50fd3580da34bbf325504803cc22b\\\\variables\\\\variables' with Encoder_en/Transformer/TransformerEncodeFast/encoder/layer_2/ffn/conv2/kernel\n",
      "INFO:tensorflow:Initialize variable module/Encoder_en/Transformer/TransformerEncodeFast/encoder/layer_2/ffn/layer_prepostprocess/layer_norm/layer_norm_bias:0 from checkpoint b'C:\\\\Users\\\\manga\\\\AppData\\\\Local\\\\Temp\\\\2\\\\tfhub_modules\\\\5e9bdcf4cda50fd3580da34bbf325504803cc22b\\\\variables\\\\variables' with Encoder_en/Transformer/TransformerEncodeFast/encoder/layer_2/ffn/layer_prepostprocess/layer_norm/layer_norm_bias\n",
      "INFO:tensorflow:Initialize variable module/Encoder_en/Transformer/TransformerEncodeFast/encoder/layer_2/ffn/layer_prepostprocess/layer_norm/layer_norm_scale:0 from checkpoint b'C:\\\\Users\\\\manga\\\\AppData\\\\Local\\\\Temp\\\\2\\\\tfhub_modules\\\\5e9bdcf4cda50fd3580da34bbf325504803cc22b\\\\variables\\\\variables' with Encoder_en/Transformer/TransformerEncodeFast/encoder/layer_2/ffn/layer_prepostprocess/layer_norm/layer_norm_scale\n",
      "INFO:tensorflow:Initialize variable module/Encoder_en/Transformer/TransformerEncodeFast/encoder/layer_2/self_attention/layer_prepostprocess/layer_norm/layer_norm_bias:0 from checkpoint b'C:\\\\Users\\\\manga\\\\AppData\\\\Local\\\\Temp\\\\2\\\\tfhub_modules\\\\5e9bdcf4cda50fd3580da34bbf325504803cc22b\\\\variables\\\\variables' with Encoder_en/Transformer/TransformerEncodeFast/encoder/layer_2/self_attention/layer_prepostprocess/layer_norm/layer_norm_bias\n",
      "INFO:tensorflow:Initialize variable module/Encoder_en/Transformer/TransformerEncodeFast/encoder/layer_2/self_attention/layer_prepostprocess/layer_norm/layer_norm_scale:0 from checkpoint b'C:\\\\Users\\\\manga\\\\AppData\\\\Local\\\\Temp\\\\2\\\\tfhub_modules\\\\5e9bdcf4cda50fd3580da34bbf325504803cc22b\\\\variables\\\\variables' with Encoder_en/Transformer/TransformerEncodeFast/encoder/layer_2/self_attention/layer_prepostprocess/layer_norm/layer_norm_scale\n"
     ]
    },
    {
     "name": "stdout",
     "output_type": "stream",
     "text": [
      "INFO:tensorflow:Initialize variable module/Encoder_en/Transformer/TransformerEncodeFast/encoder/layer_2/self_attention/multihead_attention/k/kernel:0 from checkpoint b'C:\\\\Users\\\\manga\\\\AppData\\\\Local\\\\Temp\\\\2\\\\tfhub_modules\\\\5e9bdcf4cda50fd3580da34bbf325504803cc22b\\\\variables\\\\variables' with Encoder_en/Transformer/TransformerEncodeFast/encoder/layer_2/self_attention/multihead_attention/k/kernel\n",
      "INFO:tensorflow:Initialize variable module/Encoder_en/Transformer/TransformerEncodeFast/encoder/layer_2/self_attention/multihead_attention/output_transform/kernel:0 from checkpoint b'C:\\\\Users\\\\manga\\\\AppData\\\\Local\\\\Temp\\\\2\\\\tfhub_modules\\\\5e9bdcf4cda50fd3580da34bbf325504803cc22b\\\\variables\\\\variables' with Encoder_en/Transformer/TransformerEncodeFast/encoder/layer_2/self_attention/multihead_attention/output_transform/kernel\n",
      "INFO:tensorflow:Initialize variable module/Encoder_en/Transformer/TransformerEncodeFast/encoder/layer_2/self_attention/multihead_attention/q/kernel:0 from checkpoint b'C:\\\\Users\\\\manga\\\\AppData\\\\Local\\\\Temp\\\\2\\\\tfhub_modules\\\\5e9bdcf4cda50fd3580da34bbf325504803cc22b\\\\variables\\\\variables' with Encoder_en/Transformer/TransformerEncodeFast/encoder/layer_2/self_attention/multihead_attention/q/kernel\n",
      "INFO:tensorflow:Initialize variable module/Encoder_en/Transformer/TransformerEncodeFast/encoder/layer_2/self_attention/multihead_attention/v/kernel:0 from checkpoint b'C:\\\\Users\\\\manga\\\\AppData\\\\Local\\\\Temp\\\\2\\\\tfhub_modules\\\\5e9bdcf4cda50fd3580da34bbf325504803cc22b\\\\variables\\\\variables' with Encoder_en/Transformer/TransformerEncodeFast/encoder/layer_2/self_attention/multihead_attention/v/kernel\n",
      "INFO:tensorflow:Initialize variable module/Encoder_en/Transformer/TransformerEncodeFast/encoder/layer_3/ffn/conv1/bias:0 from checkpoint b'C:\\\\Users\\\\manga\\\\AppData\\\\Local\\\\Temp\\\\2\\\\tfhub_modules\\\\5e9bdcf4cda50fd3580da34bbf325504803cc22b\\\\variables\\\\variables' with Encoder_en/Transformer/TransformerEncodeFast/encoder/layer_3/ffn/conv1/bias\n",
      "INFO:tensorflow:Initialize variable module/Encoder_en/Transformer/TransformerEncodeFast/encoder/layer_3/ffn/conv1/kernel:0 from checkpoint b'C:\\\\Users\\\\manga\\\\AppData\\\\Local\\\\Temp\\\\2\\\\tfhub_modules\\\\5e9bdcf4cda50fd3580da34bbf325504803cc22b\\\\variables\\\\variables' with Encoder_en/Transformer/TransformerEncodeFast/encoder/layer_3/ffn/conv1/kernel\n",
      "INFO:tensorflow:Initialize variable module/Encoder_en/Transformer/TransformerEncodeFast/encoder/layer_3/ffn/conv2/bias:0 from checkpoint b'C:\\\\Users\\\\manga\\\\AppData\\\\Local\\\\Temp\\\\2\\\\tfhub_modules\\\\5e9bdcf4cda50fd3580da34bbf325504803cc22b\\\\variables\\\\variables' with Encoder_en/Transformer/TransformerEncodeFast/encoder/layer_3/ffn/conv2/bias\n",
      "INFO:tensorflow:Initialize variable module/Encoder_en/Transformer/TransformerEncodeFast/encoder/layer_3/ffn/conv2/kernel:0 from checkpoint b'C:\\\\Users\\\\manga\\\\AppData\\\\Local\\\\Temp\\\\2\\\\tfhub_modules\\\\5e9bdcf4cda50fd3580da34bbf325504803cc22b\\\\variables\\\\variables' with Encoder_en/Transformer/TransformerEncodeFast/encoder/layer_3/ffn/conv2/kernel\n",
      "INFO:tensorflow:Initialize variable module/Encoder_en/Transformer/TransformerEncodeFast/encoder/layer_3/ffn/layer_prepostprocess/layer_norm/layer_norm_bias:0 from checkpoint b'C:\\\\Users\\\\manga\\\\AppData\\\\Local\\\\Temp\\\\2\\\\tfhub_modules\\\\5e9bdcf4cda50fd3580da34bbf325504803cc22b\\\\variables\\\\variables' with Encoder_en/Transformer/TransformerEncodeFast/encoder/layer_3/ffn/layer_prepostprocess/layer_norm/layer_norm_bias\n",
      "INFO:tensorflow:Initialize variable module/Encoder_en/Transformer/TransformerEncodeFast/encoder/layer_3/ffn/layer_prepostprocess/layer_norm/layer_norm_scale:0 from checkpoint b'C:\\\\Users\\\\manga\\\\AppData\\\\Local\\\\Temp\\\\2\\\\tfhub_modules\\\\5e9bdcf4cda50fd3580da34bbf325504803cc22b\\\\variables\\\\variables' with Encoder_en/Transformer/TransformerEncodeFast/encoder/layer_3/ffn/layer_prepostprocess/layer_norm/layer_norm_scale\n",
      "INFO:tensorflow:Initialize variable module/Encoder_en/Transformer/TransformerEncodeFast/encoder/layer_3/self_attention/layer_prepostprocess/layer_norm/layer_norm_bias:0 from checkpoint b'C:\\\\Users\\\\manga\\\\AppData\\\\Local\\\\Temp\\\\2\\\\tfhub_modules\\\\5e9bdcf4cda50fd3580da34bbf325504803cc22b\\\\variables\\\\variables' with Encoder_en/Transformer/TransformerEncodeFast/encoder/layer_3/self_attention/layer_prepostprocess/layer_norm/layer_norm_bias\n",
      "INFO:tensorflow:Initialize variable module/Encoder_en/Transformer/TransformerEncodeFast/encoder/layer_3/self_attention/layer_prepostprocess/layer_norm/layer_norm_scale:0 from checkpoint b'C:\\\\Users\\\\manga\\\\AppData\\\\Local\\\\Temp\\\\2\\\\tfhub_modules\\\\5e9bdcf4cda50fd3580da34bbf325504803cc22b\\\\variables\\\\variables' with Encoder_en/Transformer/TransformerEncodeFast/encoder/layer_3/self_attention/layer_prepostprocess/layer_norm/layer_norm_scale\n",
      "INFO:tensorflow:Initialize variable module/Encoder_en/Transformer/TransformerEncodeFast/encoder/layer_3/self_attention/multihead_attention/k/kernel:0 from checkpoint b'C:\\\\Users\\\\manga\\\\AppData\\\\Local\\\\Temp\\\\2\\\\tfhub_modules\\\\5e9bdcf4cda50fd3580da34bbf325504803cc22b\\\\variables\\\\variables' with Encoder_en/Transformer/TransformerEncodeFast/encoder/layer_3/self_attention/multihead_attention/k/kernel\n",
      "INFO:tensorflow:Initialize variable module/Encoder_en/Transformer/TransformerEncodeFast/encoder/layer_3/self_attention/multihead_attention/output_transform/kernel:0 from checkpoint b'C:\\\\Users\\\\manga\\\\AppData\\\\Local\\\\Temp\\\\2\\\\tfhub_modules\\\\5e9bdcf4cda50fd3580da34bbf325504803cc22b\\\\variables\\\\variables' with Encoder_en/Transformer/TransformerEncodeFast/encoder/layer_3/self_attention/multihead_attention/output_transform/kernel\n",
      "INFO:tensorflow:Initialize variable module/Encoder_en/Transformer/TransformerEncodeFast/encoder/layer_3/self_attention/multihead_attention/q/kernel:0 from checkpoint b'C:\\\\Users\\\\manga\\\\AppData\\\\Local\\\\Temp\\\\2\\\\tfhub_modules\\\\5e9bdcf4cda50fd3580da34bbf325504803cc22b\\\\variables\\\\variables' with Encoder_en/Transformer/TransformerEncodeFast/encoder/layer_3/self_attention/multihead_attention/q/kernel\n",
      "INFO:tensorflow:Initialize variable module/Encoder_en/Transformer/TransformerEncodeFast/encoder/layer_3/self_attention/multihead_attention/v/kernel:0 from checkpoint b'C:\\\\Users\\\\manga\\\\AppData\\\\Local\\\\Temp\\\\2\\\\tfhub_modules\\\\5e9bdcf4cda50fd3580da34bbf325504803cc22b\\\\variables\\\\variables' with Encoder_en/Transformer/TransformerEncodeFast/encoder/layer_3/self_attention/multihead_attention/v/kernel\n",
      "INFO:tensorflow:Initialize variable module/Encoder_en/Transformer/TransformerEncodeFast/encoder/layer_4/ffn/conv1/bias:0 from checkpoint b'C:\\\\Users\\\\manga\\\\AppData\\\\Local\\\\Temp\\\\2\\\\tfhub_modules\\\\5e9bdcf4cda50fd3580da34bbf325504803cc22b\\\\variables\\\\variables' with Encoder_en/Transformer/TransformerEncodeFast/encoder/layer_4/ffn/conv1/bias\n",
      "INFO:tensorflow:Initialize variable module/Encoder_en/Transformer/TransformerEncodeFast/encoder/layer_4/ffn/conv1/kernel:0 from checkpoint b'C:\\\\Users\\\\manga\\\\AppData\\\\Local\\\\Temp\\\\2\\\\tfhub_modules\\\\5e9bdcf4cda50fd3580da34bbf325504803cc22b\\\\variables\\\\variables' with Encoder_en/Transformer/TransformerEncodeFast/encoder/layer_4/ffn/conv1/kernel\n",
      "INFO:tensorflow:Initialize variable module/Encoder_en/Transformer/TransformerEncodeFast/encoder/layer_4/ffn/conv2/bias:0 from checkpoint b'C:\\\\Users\\\\manga\\\\AppData\\\\Local\\\\Temp\\\\2\\\\tfhub_modules\\\\5e9bdcf4cda50fd3580da34bbf325504803cc22b\\\\variables\\\\variables' with Encoder_en/Transformer/TransformerEncodeFast/encoder/layer_4/ffn/conv2/bias\n",
      "INFO:tensorflow:Initialize variable module/Encoder_en/Transformer/TransformerEncodeFast/encoder/layer_4/ffn/conv2/kernel:0 from checkpoint b'C:\\\\Users\\\\manga\\\\AppData\\\\Local\\\\Temp\\\\2\\\\tfhub_modules\\\\5e9bdcf4cda50fd3580da34bbf325504803cc22b\\\\variables\\\\variables' with Encoder_en/Transformer/TransformerEncodeFast/encoder/layer_4/ffn/conv2/kernel\n",
      "INFO:tensorflow:Initialize variable module/Encoder_en/Transformer/TransformerEncodeFast/encoder/layer_4/ffn/layer_prepostprocess/layer_norm/layer_norm_bias:0 from checkpoint b'C:\\\\Users\\\\manga\\\\AppData\\\\Local\\\\Temp\\\\2\\\\tfhub_modules\\\\5e9bdcf4cda50fd3580da34bbf325504803cc22b\\\\variables\\\\variables' with Encoder_en/Transformer/TransformerEncodeFast/encoder/layer_4/ffn/layer_prepostprocess/layer_norm/layer_norm_bias\n",
      "INFO:tensorflow:Initialize variable module/Encoder_en/Transformer/TransformerEncodeFast/encoder/layer_4/ffn/layer_prepostprocess/layer_norm/layer_norm_scale:0 from checkpoint b'C:\\\\Users\\\\manga\\\\AppData\\\\Local\\\\Temp\\\\2\\\\tfhub_modules\\\\5e9bdcf4cda50fd3580da34bbf325504803cc22b\\\\variables\\\\variables' with Encoder_en/Transformer/TransformerEncodeFast/encoder/layer_4/ffn/layer_prepostprocess/layer_norm/layer_norm_scale\n"
     ]
    },
    {
     "name": "stdout",
     "output_type": "stream",
     "text": [
      "INFO:tensorflow:Initialize variable module/Encoder_en/Transformer/TransformerEncodeFast/encoder/layer_4/self_attention/layer_prepostprocess/layer_norm/layer_norm_bias:0 from checkpoint b'C:\\\\Users\\\\manga\\\\AppData\\\\Local\\\\Temp\\\\2\\\\tfhub_modules\\\\5e9bdcf4cda50fd3580da34bbf325504803cc22b\\\\variables\\\\variables' with Encoder_en/Transformer/TransformerEncodeFast/encoder/layer_4/self_attention/layer_prepostprocess/layer_norm/layer_norm_bias\n",
      "INFO:tensorflow:Initialize variable module/Encoder_en/Transformer/TransformerEncodeFast/encoder/layer_4/self_attention/layer_prepostprocess/layer_norm/layer_norm_scale:0 from checkpoint b'C:\\\\Users\\\\manga\\\\AppData\\\\Local\\\\Temp\\\\2\\\\tfhub_modules\\\\5e9bdcf4cda50fd3580da34bbf325504803cc22b\\\\variables\\\\variables' with Encoder_en/Transformer/TransformerEncodeFast/encoder/layer_4/self_attention/layer_prepostprocess/layer_norm/layer_norm_scale\n",
      "INFO:tensorflow:Initialize variable module/Encoder_en/Transformer/TransformerEncodeFast/encoder/layer_4/self_attention/multihead_attention/k/kernel:0 from checkpoint b'C:\\\\Users\\\\manga\\\\AppData\\\\Local\\\\Temp\\\\2\\\\tfhub_modules\\\\5e9bdcf4cda50fd3580da34bbf325504803cc22b\\\\variables\\\\variables' with Encoder_en/Transformer/TransformerEncodeFast/encoder/layer_4/self_attention/multihead_attention/k/kernel\n",
      "INFO:tensorflow:Initialize variable module/Encoder_en/Transformer/TransformerEncodeFast/encoder/layer_4/self_attention/multihead_attention/output_transform/kernel:0 from checkpoint b'C:\\\\Users\\\\manga\\\\AppData\\\\Local\\\\Temp\\\\2\\\\tfhub_modules\\\\5e9bdcf4cda50fd3580da34bbf325504803cc22b\\\\variables\\\\variables' with Encoder_en/Transformer/TransformerEncodeFast/encoder/layer_4/self_attention/multihead_attention/output_transform/kernel\n",
      "INFO:tensorflow:Initialize variable module/Encoder_en/Transformer/TransformerEncodeFast/encoder/layer_4/self_attention/multihead_attention/q/kernel:0 from checkpoint b'C:\\\\Users\\\\manga\\\\AppData\\\\Local\\\\Temp\\\\2\\\\tfhub_modules\\\\5e9bdcf4cda50fd3580da34bbf325504803cc22b\\\\variables\\\\variables' with Encoder_en/Transformer/TransformerEncodeFast/encoder/layer_4/self_attention/multihead_attention/q/kernel\n",
      "INFO:tensorflow:Initialize variable module/Encoder_en/Transformer/TransformerEncodeFast/encoder/layer_4/self_attention/multihead_attention/v/kernel:0 from checkpoint b'C:\\\\Users\\\\manga\\\\AppData\\\\Local\\\\Temp\\\\2\\\\tfhub_modules\\\\5e9bdcf4cda50fd3580da34bbf325504803cc22b\\\\variables\\\\variables' with Encoder_en/Transformer/TransformerEncodeFast/encoder/layer_4/self_attention/multihead_attention/v/kernel\n",
      "INFO:tensorflow:Initialize variable module/Encoder_en/Transformer/TransformerEncodeFast/encoder/layer_5/ffn/conv1/bias:0 from checkpoint b'C:\\\\Users\\\\manga\\\\AppData\\\\Local\\\\Temp\\\\2\\\\tfhub_modules\\\\5e9bdcf4cda50fd3580da34bbf325504803cc22b\\\\variables\\\\variables' with Encoder_en/Transformer/TransformerEncodeFast/encoder/layer_5/ffn/conv1/bias\n",
      "INFO:tensorflow:Initialize variable module/Encoder_en/Transformer/TransformerEncodeFast/encoder/layer_5/ffn/conv1/kernel:0 from checkpoint b'C:\\\\Users\\\\manga\\\\AppData\\\\Local\\\\Temp\\\\2\\\\tfhub_modules\\\\5e9bdcf4cda50fd3580da34bbf325504803cc22b\\\\variables\\\\variables' with Encoder_en/Transformer/TransformerEncodeFast/encoder/layer_5/ffn/conv1/kernel\n",
      "INFO:tensorflow:Initialize variable module/Encoder_en/Transformer/TransformerEncodeFast/encoder/layer_5/ffn/conv2/bias:0 from checkpoint b'C:\\\\Users\\\\manga\\\\AppData\\\\Local\\\\Temp\\\\2\\\\tfhub_modules\\\\5e9bdcf4cda50fd3580da34bbf325504803cc22b\\\\variables\\\\variables' with Encoder_en/Transformer/TransformerEncodeFast/encoder/layer_5/ffn/conv2/bias\n",
      "INFO:tensorflow:Initialize variable module/Encoder_en/Transformer/TransformerEncodeFast/encoder/layer_5/ffn/conv2/kernel:0 from checkpoint b'C:\\\\Users\\\\manga\\\\AppData\\\\Local\\\\Temp\\\\2\\\\tfhub_modules\\\\5e9bdcf4cda50fd3580da34bbf325504803cc22b\\\\variables\\\\variables' with Encoder_en/Transformer/TransformerEncodeFast/encoder/layer_5/ffn/conv2/kernel\n",
      "INFO:tensorflow:Initialize variable module/Encoder_en/Transformer/TransformerEncodeFast/encoder/layer_5/ffn/layer_prepostprocess/layer_norm/layer_norm_bias:0 from checkpoint b'C:\\\\Users\\\\manga\\\\AppData\\\\Local\\\\Temp\\\\2\\\\tfhub_modules\\\\5e9bdcf4cda50fd3580da34bbf325504803cc22b\\\\variables\\\\variables' with Encoder_en/Transformer/TransformerEncodeFast/encoder/layer_5/ffn/layer_prepostprocess/layer_norm/layer_norm_bias\n",
      "INFO:tensorflow:Initialize variable module/Encoder_en/Transformer/TransformerEncodeFast/encoder/layer_5/ffn/layer_prepostprocess/layer_norm/layer_norm_scale:0 from checkpoint b'C:\\\\Users\\\\manga\\\\AppData\\\\Local\\\\Temp\\\\2\\\\tfhub_modules\\\\5e9bdcf4cda50fd3580da34bbf325504803cc22b\\\\variables\\\\variables' with Encoder_en/Transformer/TransformerEncodeFast/encoder/layer_5/ffn/layer_prepostprocess/layer_norm/layer_norm_scale\n",
      "INFO:tensorflow:Initialize variable module/Encoder_en/Transformer/TransformerEncodeFast/encoder/layer_5/self_attention/layer_prepostprocess/layer_norm/layer_norm_bias:0 from checkpoint b'C:\\\\Users\\\\manga\\\\AppData\\\\Local\\\\Temp\\\\2\\\\tfhub_modules\\\\5e9bdcf4cda50fd3580da34bbf325504803cc22b\\\\variables\\\\variables' with Encoder_en/Transformer/TransformerEncodeFast/encoder/layer_5/self_attention/layer_prepostprocess/layer_norm/layer_norm_bias\n",
      "INFO:tensorflow:Initialize variable module/Encoder_en/Transformer/TransformerEncodeFast/encoder/layer_5/self_attention/layer_prepostprocess/layer_norm/layer_norm_scale:0 from checkpoint b'C:\\\\Users\\\\manga\\\\AppData\\\\Local\\\\Temp\\\\2\\\\tfhub_modules\\\\5e9bdcf4cda50fd3580da34bbf325504803cc22b\\\\variables\\\\variables' with Encoder_en/Transformer/TransformerEncodeFast/encoder/layer_5/self_attention/layer_prepostprocess/layer_norm/layer_norm_scale\n",
      "INFO:tensorflow:Initialize variable module/Encoder_en/Transformer/TransformerEncodeFast/encoder/layer_5/self_attention/multihead_attention/k/kernel:0 from checkpoint b'C:\\\\Users\\\\manga\\\\AppData\\\\Local\\\\Temp\\\\2\\\\tfhub_modules\\\\5e9bdcf4cda50fd3580da34bbf325504803cc22b\\\\variables\\\\variables' with Encoder_en/Transformer/TransformerEncodeFast/encoder/layer_5/self_attention/multihead_attention/k/kernel\n",
      "INFO:tensorflow:Initialize variable module/Encoder_en/Transformer/TransformerEncodeFast/encoder/layer_5/self_attention/multihead_attention/output_transform/kernel:0 from checkpoint b'C:\\\\Users\\\\manga\\\\AppData\\\\Local\\\\Temp\\\\2\\\\tfhub_modules\\\\5e9bdcf4cda50fd3580da34bbf325504803cc22b\\\\variables\\\\variables' with Encoder_en/Transformer/TransformerEncodeFast/encoder/layer_5/self_attention/multihead_attention/output_transform/kernel\n",
      "INFO:tensorflow:Initialize variable module/Encoder_en/Transformer/TransformerEncodeFast/encoder/layer_5/self_attention/multihead_attention/q/kernel:0 from checkpoint b'C:\\\\Users\\\\manga\\\\AppData\\\\Local\\\\Temp\\\\2\\\\tfhub_modules\\\\5e9bdcf4cda50fd3580da34bbf325504803cc22b\\\\variables\\\\variables' with Encoder_en/Transformer/TransformerEncodeFast/encoder/layer_5/self_attention/multihead_attention/q/kernel\n",
      "INFO:tensorflow:Initialize variable module/Encoder_en/Transformer/TransformerEncodeFast/encoder/layer_5/self_attention/multihead_attention/v/kernel:0 from checkpoint b'C:\\\\Users\\\\manga\\\\AppData\\\\Local\\\\Temp\\\\2\\\\tfhub_modules\\\\5e9bdcf4cda50fd3580da34bbf325504803cc22b\\\\variables\\\\variables' with Encoder_en/Transformer/TransformerEncodeFast/encoder/layer_5/self_attention/multihead_attention/v/kernel\n",
      "INFO:tensorflow:Initialize variable module/Encoder_en/Transformer/TransformerEncodeFast/encoder/layer_prepostprocess/layer_norm/layer_norm_bias:0 from checkpoint b'C:\\\\Users\\\\manga\\\\AppData\\\\Local\\\\Temp\\\\2\\\\tfhub_modules\\\\5e9bdcf4cda50fd3580da34bbf325504803cc22b\\\\variables\\\\variables' with Encoder_en/Transformer/TransformerEncodeFast/encoder/layer_prepostprocess/layer_norm/layer_norm_bias\n",
      "INFO:tensorflow:Initialize variable module/Encoder_en/Transformer/TransformerEncodeFast/encoder/layer_prepostprocess/layer_norm/layer_norm_scale:0 from checkpoint b'C:\\\\Users\\\\manga\\\\AppData\\\\Local\\\\Temp\\\\2\\\\tfhub_modules\\\\5e9bdcf4cda50fd3580da34bbf325504803cc22b\\\\variables\\\\variables' with Encoder_en/Transformer/TransformerEncodeFast/encoder/layer_prepostprocess/layer_norm/layer_norm_scale\n",
      "INFO:tensorflow:Initialize variable module/Encoder_en/Transformer/dense/bias:0 from checkpoint b'C:\\\\Users\\\\manga\\\\AppData\\\\Local\\\\Temp\\\\2\\\\tfhub_modules\\\\5e9bdcf4cda50fd3580da34bbf325504803cc22b\\\\variables\\\\variables' with Encoder_en/Transformer/dense/bias\n"
     ]
    },
    {
     "name": "stdout",
     "output_type": "stream",
     "text": [
      "INFO:tensorflow:Initialize variable module/Encoder_en/Transformer/dense/kernel:0 from checkpoint b'C:\\\\Users\\\\manga\\\\AppData\\\\Local\\\\Temp\\\\2\\\\tfhub_modules\\\\5e9bdcf4cda50fd3580da34bbf325504803cc22b\\\\variables\\\\variables' with Encoder_en/Transformer/dense/kernel\n",
      "INFO:tensorflow:Initialize variable module/Encoder_en/hidden_layers/tanh_layer_0/bias:0 from checkpoint b'C:\\\\Users\\\\manga\\\\AppData\\\\Local\\\\Temp\\\\2\\\\tfhub_modules\\\\5e9bdcf4cda50fd3580da34bbf325504803cc22b\\\\variables\\\\variables' with Encoder_en/hidden_layers/tanh_layer_0/bias\n",
      "INFO:tensorflow:Initialize variable module/Encoder_en/hidden_layers/tanh_layer_0/weights:0 from checkpoint b'C:\\\\Users\\\\manga\\\\AppData\\\\Local\\\\Temp\\\\2\\\\tfhub_modules\\\\5e9bdcf4cda50fd3580da34bbf325504803cc22b\\\\variables\\\\variables' with Encoder_en/hidden_layers/tanh_layer_0/weights\n",
      "INFO:tensorflow:Initialize variable module/global_step:0 from checkpoint b'C:\\\\Users\\\\manga\\\\AppData\\\\Local\\\\Temp\\\\2\\\\tfhub_modules\\\\5e9bdcf4cda50fd3580da34bbf325504803cc22b\\\\variables\\\\variables' with global_step\n"
     ]
    }
   ],
   "source": [
    "\n",
    "import pandas as pd\n",
    "import numpy as np\n",
    "import pickle\n",
    "from keras.preprocessing.text import Tokenizer\n",
    "from keras.models import Sequential\n",
    "from keras.layers import Activation, Dense, Dropout,Input,Lambda\n",
    "from sklearn.preprocessing import LabelBinarizer\n",
    "import sklearn.datasets as skds\n",
    "from pathlib import Path\n",
    "from sklearn.datasets import fetch_20newsgroups\n",
    "import tensorflow as tf\n",
    "import tensorflow_hub as hub\n",
    "import keras.layers as layers\n",
    "from keras.models import Model\n",
    "from keras import backend as K\n",
    "module_url = \"https://tfhub.dev/google/universal-sentence-encoder-large/2\"\n",
    "# Import the Universal Sentence Encoder's TF Hub module\n",
    "embed = hub.Module(module_url)"
   ]
  },
  {
   "cell_type": "code",
   "execution_count": 36,
   "metadata": {},
   "outputs": [],
   "source": [
    "# For reproducibility\n",
    "np.random.seed(1237)\n",
    " \n",
    "#the data are downloaded to C:\\Users\\martinma\\scikit_learn_data\n",
    "train = fetch_20newsgroups(random_state=1,\n",
    "                           subset='train',\n",
    "                                          )\n",
    "test = fetch_20newsgroups(random_state=1,\n",
    "                          subset='test',\n",
    "                           )\n",
    "\n",
    "train_posts = train.data\n",
    "train_tags =  train.target\n",
    "\n",
    "test_posts = test.data\n",
    "test_tags = test.target   \n"
   ]
  },
  {
   "cell_type": "code",
   "execution_count": 38,
   "metadata": {},
   "outputs": [],
   "source": [
    "def UniversalEmbedding(x):\n",
    "    return embed(tf.squeeze(tf.cast(x, tf.string)), \n",
    "        signature=\"default\", as_dict=True)[\"default\"]"
   ]
  },
  {
   "cell_type": "code",
   "execution_count": 41,
   "metadata": {},
   "outputs": [],
   "source": [
    "train_posts = np.array(train_posts, dtype=str)\n",
    "test_posts = np.array(test_posts, dtype=str)"
   ]
  },
  {
   "cell_type": "code",
   "execution_count": 71,
   "metadata": {},
   "outputs": [
    {
     "name": "stdout",
     "output_type": "stream",
     "text": [
      "0\n",
      "1\n",
      "2\n",
      "363.881671667099\n"
     ]
    }
   ],
   "source": [
    "train_posts_embed=[]\n",
    "batch_size=5000    \n",
    "with tf.Session() as session:\n",
    "  K.set_session(session)\n",
    "  session.run(tf.global_variables_initializer())\n",
    "  session.run(tf.tables_initializer())\n",
    "  arr = train_posts\n",
    "  start = time.time()\n",
    "  for i in range(0, round(len(arr) / batch_size + 1)):\n",
    "    tmp = arr[batch_size * i : batch_size * (i + 1)]\n",
    "    trp=session.run(UniversalEmbedding(tmp))                      \n",
    "    print(i)\n",
    "    if(len(train_posts_embed)==0):\n",
    "        train_posts_embed=trp\n",
    "    else:\n",
    "        train_posts_embed=np.concatenate((train_posts_embed,trp))\n",
    "  print(time.time() - start)\n",
    "  "
   ]
  },
  {
   "cell_type": "code",
   "execution_count": 76,
   "metadata": {},
   "outputs": [
    {
     "name": "stdout",
     "output_type": "stream",
     "text": [
      "0\n",
      "1\n",
      "2\n",
      "3\n"
     ]
    },
    {
     "ename": "InvalidArgumentError",
     "evalue": "Input shapes do not match: [0,0] vs. [0,1]\n\t [[Node: module_apply_default_17/text_preprocessor/add_bigrams/StringJoin = StringJoin[N=2, separator=\"\\342\\226\\201\", _device=\"/job:localhost/replica:0/task:0/device:CPU:0\"](module_apply_default_17/text_preprocessor/add_bigrams/SparseToDense, module_apply_default_17/text_preprocessor/add_bigrams/concat)]]\n\t [[Node: module_apply_default_17/Encoder_en/Transformer/TransformerEncodeFast/encoder/layer_2/ffn/conv2/Tensordot/GatherV2/_2477 = _HostRecv[client_terminated=false, recv_device=\"/job:localhost/replica:0/task:0/device:GPU:0\", send_device=\"/job:localhost/replica:0/task:0/device:CPU:0\", send_device_incarnation=1, tensor_name=\"edge_1340_...t/GatherV2\", tensor_type=DT_INT32, _device=\"/job:localhost/replica:0/task:0/device:GPU:0\"]()]]\n\nCaused by op 'module_apply_default_17/text_preprocessor/add_bigrams/StringJoin', defined at:\n  File \"C:\\Anaconda\\lib\\runpy.py\", line 193, in _run_module_as_main\n    \"__main__\", mod_spec)\n  File \"C:\\Anaconda\\lib\\runpy.py\", line 85, in _run_code\n    exec(code, run_globals)\n  File \"C:\\Anaconda\\lib\\site-packages\\ipykernel\\__main__.py\", line 3, in <module>\n    app.launch_new_instance()\n  File \"C:\\Anaconda\\lib\\site-packages\\traitlets\\config\\application.py\", line 658, in launch_instance\n    app.start()\n  File \"C:\\Anaconda\\lib\\site-packages\\ipykernel\\kernelapp.py\", line 478, in start\n    self.io_loop.start()\n  File \"C:\\Anaconda\\lib\\site-packages\\zmq\\eventloop\\ioloop.py\", line 177, in start\n    super(ZMQIOLoop, self).start()\n  File \"C:\\Anaconda\\lib\\site-packages\\tornado\\ioloop.py\", line 888, in start\n    handler_func(fd_obj, events)\n  File \"C:\\Anaconda\\lib\\site-packages\\tornado\\stack_context.py\", line 277, in null_wrapper\n    return fn(*args, **kwargs)\n  File \"C:\\Anaconda\\lib\\site-packages\\zmq\\eventloop\\zmqstream.py\", line 440, in _handle_events\n    self._handle_recv()\n  File \"C:\\Anaconda\\lib\\site-packages\\zmq\\eventloop\\zmqstream.py\", line 472, in _handle_recv\n    self._run_callback(callback, msg)\n  File \"C:\\Anaconda\\lib\\site-packages\\zmq\\eventloop\\zmqstream.py\", line 414, in _run_callback\n    callback(*args, **kwargs)\n  File \"C:\\Anaconda\\lib\\site-packages\\tornado\\stack_context.py\", line 277, in null_wrapper\n    return fn(*args, **kwargs)\n  File \"C:\\Anaconda\\lib\\site-packages\\ipykernel\\kernelbase.py\", line 283, in dispatcher\n    return self.dispatch_shell(stream, msg)\n  File \"C:\\Anaconda\\lib\\site-packages\\ipykernel\\kernelbase.py\", line 233, in dispatch_shell\n    handler(stream, idents, msg)\n  File \"C:\\Anaconda\\lib\\site-packages\\ipykernel\\kernelbase.py\", line 399, in execute_request\n    user_expressions, allow_stdin)\n  File \"C:\\Anaconda\\lib\\site-packages\\ipykernel\\ipkernel.py\", line 208, in do_execute\n    res = shell.run_cell(code, store_history=store_history, silent=silent)\n  File \"C:\\Anaconda\\lib\\site-packages\\ipykernel\\zmqshell.py\", line 537, in run_cell\n    return super(ZMQInteractiveShell, self).run_cell(*args, **kwargs)\n  File \"C:\\Anaconda\\lib\\site-packages\\IPython\\core\\interactiveshell.py\", line 2728, in run_cell\n    interactivity=interactivity, compiler=compiler, result=result)\n  File \"C:\\Anaconda\\lib\\site-packages\\IPython\\core\\interactiveshell.py\", line 2850, in run_ast_nodes\n    if self.run_code(code, result):\n  File \"C:\\Anaconda\\lib\\site-packages\\IPython\\core\\interactiveshell.py\", line 2910, in run_code\n    exec(code_obj, self.user_global_ns, self.user_ns)\n  File \"<ipython-input-76-90b0f10e9b9d>\", line 11, in <module>\n    trp=session.run(UniversalEmbedding(tmp))\n  File \"<ipython-input-38-f266cdac2f08>\", line 3, in UniversalEmbedding\n    signature=\"default\", as_dict=True)[\"default\"]\n  File \"C:\\Anaconda\\lib\\site-packages\\tensorflow_hub\\module.py\", line 203, in __call__\n    name=name)\n  File \"C:\\Anaconda\\lib\\site-packages\\tensorflow_hub\\native_module.py\", line 447, in create_apply_graph\n    restore_collections_predicate=(lambda key: key in import_collections))\n  File \"C:\\Anaconda\\lib\\site-packages\\tensorflow\\python\\training\\saver.py\", line 1927, in import_meta_graph\n    **kwargs)\n  File \"C:\\Anaconda\\lib\\site-packages\\tensorflow\\python\\framework\\meta_graph.py\", line 741, in import_scoped_meta_graph\n    producer_op_list=producer_op_list)\n  File \"C:\\Anaconda\\lib\\site-packages\\tensorflow\\python\\util\\deprecation.py\", line 432, in new_func\n    return func(*args, **kwargs)\n  File \"C:\\Anaconda\\lib\\site-packages\\tensorflow\\python\\framework\\importer.py\", line 577, in import_graph_def\n    op_def=op_def)\n  File \"C:\\Anaconda\\lib\\site-packages\\tensorflow\\python\\framework\\ops.py\", line 3290, in create_op\n    op_def=op_def)\n  File \"C:\\Anaconda\\lib\\site-packages\\tensorflow\\python\\framework\\ops.py\", line 1654, in __init__\n    self._traceback = self._graph._extract_stack()  # pylint: disable=protected-access\n\nInvalidArgumentError (see above for traceback): Input shapes do not match: [0,0] vs. [0,1]\n\t [[Node: module_apply_default_17/text_preprocessor/add_bigrams/StringJoin = StringJoin[N=2, separator=\"\\342\\226\\201\", _device=\"/job:localhost/replica:0/task:0/device:CPU:0\"](module_apply_default_17/text_preprocessor/add_bigrams/SparseToDense, module_apply_default_17/text_preprocessor/add_bigrams/concat)]]\n\t [[Node: module_apply_default_17/Encoder_en/Transformer/TransformerEncodeFast/encoder/layer_2/ffn/conv2/Tensordot/GatherV2/_2477 = _HostRecv[client_terminated=false, recv_device=\"/job:localhost/replica:0/task:0/device:GPU:0\", send_device=\"/job:localhost/replica:0/task:0/device:CPU:0\", send_device_incarnation=1, tensor_name=\"edge_1340_...t/GatherV2\", tensor_type=DT_INT32, _device=\"/job:localhost/replica:0/task:0/device:GPU:0\"]()]]\n",
     "output_type": "error",
     "traceback": [
      "\u001b[1;31m---------------------------------------------------------------------------\u001b[0m",
      "\u001b[1;31mInvalidArgumentError\u001b[0m                      Traceback (most recent call last)",
      "\u001b[1;32mC:\\Anaconda\\lib\\site-packages\\tensorflow\\python\\client\\session.py\u001b[0m in \u001b[0;36m_do_call\u001b[1;34m(self, fn, *args)\u001b[0m\n\u001b[0;32m   1326\u001b[0m     \u001b[1;32mtry\u001b[0m\u001b[1;33m:\u001b[0m\u001b[1;33m\u001b[0m\u001b[0m\n\u001b[1;32m-> 1327\u001b[1;33m       \u001b[1;32mreturn\u001b[0m \u001b[0mfn\u001b[0m\u001b[1;33m(\u001b[0m\u001b[1;33m*\u001b[0m\u001b[0margs\u001b[0m\u001b[1;33m)\u001b[0m\u001b[1;33m\u001b[0m\u001b[0m\n\u001b[0m\u001b[0;32m   1328\u001b[0m     \u001b[1;32mexcept\u001b[0m \u001b[0merrors\u001b[0m\u001b[1;33m.\u001b[0m\u001b[0mOpError\u001b[0m \u001b[1;32mas\u001b[0m \u001b[0me\u001b[0m\u001b[1;33m:\u001b[0m\u001b[1;33m\u001b[0m\u001b[0m\n",
      "\u001b[1;32mC:\\Anaconda\\lib\\site-packages\\tensorflow\\python\\client\\session.py\u001b[0m in \u001b[0;36m_run_fn\u001b[1;34m(feed_dict, fetch_list, target_list, options, run_metadata)\u001b[0m\n\u001b[0;32m   1311\u001b[0m       return self._call_tf_sessionrun(\n\u001b[1;32m-> 1312\u001b[1;33m           options, feed_dict, fetch_list, target_list, run_metadata)\n\u001b[0m\u001b[0;32m   1313\u001b[0m \u001b[1;33m\u001b[0m\u001b[0m\n",
      "\u001b[1;32mC:\\Anaconda\\lib\\site-packages\\tensorflow\\python\\client\\session.py\u001b[0m in \u001b[0;36m_call_tf_sessionrun\u001b[1;34m(self, options, feed_dict, fetch_list, target_list, run_metadata)\u001b[0m\n\u001b[0;32m   1419\u001b[0m             \u001b[0mself\u001b[0m\u001b[1;33m.\u001b[0m\u001b[0m_session\u001b[0m\u001b[1;33m,\u001b[0m \u001b[0moptions\u001b[0m\u001b[1;33m,\u001b[0m \u001b[0mfeed_dict\u001b[0m\u001b[1;33m,\u001b[0m \u001b[0mfetch_list\u001b[0m\u001b[1;33m,\u001b[0m \u001b[0mtarget_list\u001b[0m\u001b[1;33m,\u001b[0m\u001b[1;33m\u001b[0m\u001b[0m\n\u001b[1;32m-> 1420\u001b[1;33m             status, run_metadata)\n\u001b[0m\u001b[0;32m   1421\u001b[0m \u001b[1;33m\u001b[0m\u001b[0m\n",
      "\u001b[1;32mC:\\Anaconda\\lib\\site-packages\\tensorflow\\python\\framework\\errors_impl.py\u001b[0m in \u001b[0;36m__exit__\u001b[1;34m(self, type_arg, value_arg, traceback_arg)\u001b[0m\n\u001b[0;32m    515\u001b[0m             \u001b[0mcompat\u001b[0m\u001b[1;33m.\u001b[0m\u001b[0mas_text\u001b[0m\u001b[1;33m(\u001b[0m\u001b[0mc_api\u001b[0m\u001b[1;33m.\u001b[0m\u001b[0mTF_Message\u001b[0m\u001b[1;33m(\u001b[0m\u001b[0mself\u001b[0m\u001b[1;33m.\u001b[0m\u001b[0mstatus\u001b[0m\u001b[1;33m.\u001b[0m\u001b[0mstatus\u001b[0m\u001b[1;33m)\u001b[0m\u001b[1;33m)\u001b[0m\u001b[1;33m,\u001b[0m\u001b[1;33m\u001b[0m\u001b[0m\n\u001b[1;32m--> 516\u001b[1;33m             c_api.TF_GetCode(self.status.status))\n\u001b[0m\u001b[0;32m    517\u001b[0m     \u001b[1;31m# Delete the underlying status object from memory otherwise it stays alive\u001b[0m\u001b[1;33m\u001b[0m\u001b[1;33m\u001b[0m\u001b[0m\n",
      "\u001b[1;31mInvalidArgumentError\u001b[0m: Input shapes do not match: [0,0] vs. [0,1]\n\t [[Node: module_apply_default_17/text_preprocessor/add_bigrams/StringJoin = StringJoin[N=2, separator=\"\\342\\226\\201\", _device=\"/job:localhost/replica:0/task:0/device:CPU:0\"](module_apply_default_17/text_preprocessor/add_bigrams/SparseToDense, module_apply_default_17/text_preprocessor/add_bigrams/concat)]]\n\t [[Node: module_apply_default_17/Encoder_en/Transformer/TransformerEncodeFast/encoder/layer_2/ffn/conv2/Tensordot/GatherV2/_2477 = _HostRecv[client_terminated=false, recv_device=\"/job:localhost/replica:0/task:0/device:GPU:0\", send_device=\"/job:localhost/replica:0/task:0/device:CPU:0\", send_device_incarnation=1, tensor_name=\"edge_1340_...t/GatherV2\", tensor_type=DT_INT32, _device=\"/job:localhost/replica:0/task:0/device:GPU:0\"]()]]",
      "\nDuring handling of the above exception, another exception occurred:\n",
      "\u001b[1;31mInvalidArgumentError\u001b[0m                      Traceback (most recent call last)",
      "\u001b[1;32m<ipython-input-76-90b0f10e9b9d>\u001b[0m in \u001b[0;36m<module>\u001b[1;34m()\u001b[0m\n\u001b[0;32m      9\u001b[0m   \u001b[1;32mfor\u001b[0m \u001b[0mi\u001b[0m \u001b[1;32min\u001b[0m \u001b[0mrange\u001b[0m\u001b[1;33m(\u001b[0m\u001b[1;36m0\u001b[0m\u001b[1;33m,\u001b[0m \u001b[0mround\u001b[0m\u001b[1;33m(\u001b[0m\u001b[0mlen\u001b[0m\u001b[1;33m(\u001b[0m\u001b[0marr\u001b[0m\u001b[1;33m)\u001b[0m \u001b[1;33m/\u001b[0m \u001b[0mbatch_size\u001b[0m \u001b[1;33m+\u001b[0m \u001b[1;36m1\u001b[0m\u001b[1;33m)\u001b[0m\u001b[1;33m)\u001b[0m\u001b[1;33m:\u001b[0m\u001b[1;33m\u001b[0m\u001b[0m\n\u001b[0;32m     10\u001b[0m     \u001b[0mtmp\u001b[0m \u001b[1;33m=\u001b[0m \u001b[0marr\u001b[0m\u001b[1;33m[\u001b[0m\u001b[0mbatch_size\u001b[0m \u001b[1;33m*\u001b[0m \u001b[0mi\u001b[0m \u001b[1;33m:\u001b[0m \u001b[0mbatch_size\u001b[0m \u001b[1;33m*\u001b[0m \u001b[1;33m(\u001b[0m\u001b[0mi\u001b[0m \u001b[1;33m+\u001b[0m \u001b[1;36m1\u001b[0m\u001b[1;33m)\u001b[0m\u001b[1;33m]\u001b[0m\u001b[1;33m\u001b[0m\u001b[0m\n\u001b[1;32m---> 11\u001b[1;33m     \u001b[0mtrp\u001b[0m\u001b[1;33m=\u001b[0m\u001b[0msession\u001b[0m\u001b[1;33m.\u001b[0m\u001b[0mrun\u001b[0m\u001b[1;33m(\u001b[0m\u001b[0mUniversalEmbedding\u001b[0m\u001b[1;33m(\u001b[0m\u001b[0mtmp\u001b[0m\u001b[1;33m)\u001b[0m\u001b[1;33m)\u001b[0m\u001b[1;33m\u001b[0m\u001b[0m\n\u001b[0m\u001b[0;32m     12\u001b[0m     \u001b[0mprint\u001b[0m\u001b[1;33m(\u001b[0m\u001b[0mi\u001b[0m\u001b[1;33m)\u001b[0m\u001b[1;33m\u001b[0m\u001b[0m\n\u001b[0;32m     13\u001b[0m     \u001b[1;32mif\u001b[0m\u001b[1;33m(\u001b[0m\u001b[0mlen\u001b[0m\u001b[1;33m(\u001b[0m\u001b[0mtest_posts_embed\u001b[0m\u001b[1;33m)\u001b[0m\u001b[1;33m==\u001b[0m\u001b[1;36m0\u001b[0m\u001b[1;33m)\u001b[0m\u001b[1;33m:\u001b[0m\u001b[1;33m\u001b[0m\u001b[0m\n",
      "\u001b[1;32mC:\\Anaconda\\lib\\site-packages\\tensorflow\\python\\client\\session.py\u001b[0m in \u001b[0;36mrun\u001b[1;34m(self, fetches, feed_dict, options, run_metadata)\u001b[0m\n\u001b[0;32m    903\u001b[0m     \u001b[1;32mtry\u001b[0m\u001b[1;33m:\u001b[0m\u001b[1;33m\u001b[0m\u001b[0m\n\u001b[0;32m    904\u001b[0m       result = self._run(None, fetches, feed_dict, options_ptr,\n\u001b[1;32m--> 905\u001b[1;33m                          run_metadata_ptr)\n\u001b[0m\u001b[0;32m    906\u001b[0m       \u001b[1;32mif\u001b[0m \u001b[0mrun_metadata\u001b[0m\u001b[1;33m:\u001b[0m\u001b[1;33m\u001b[0m\u001b[0m\n\u001b[0;32m    907\u001b[0m         \u001b[0mproto_data\u001b[0m \u001b[1;33m=\u001b[0m \u001b[0mtf_session\u001b[0m\u001b[1;33m.\u001b[0m\u001b[0mTF_GetBuffer\u001b[0m\u001b[1;33m(\u001b[0m\u001b[0mrun_metadata_ptr\u001b[0m\u001b[1;33m)\u001b[0m\u001b[1;33m\u001b[0m\u001b[0m\n",
      "\u001b[1;32mC:\\Anaconda\\lib\\site-packages\\tensorflow\\python\\client\\session.py\u001b[0m in \u001b[0;36m_run\u001b[1;34m(self, handle, fetches, feed_dict, options, run_metadata)\u001b[0m\n\u001b[0;32m   1138\u001b[0m     \u001b[1;32mif\u001b[0m \u001b[0mfinal_fetches\u001b[0m \u001b[1;32mor\u001b[0m \u001b[0mfinal_targets\u001b[0m \u001b[1;32mor\u001b[0m \u001b[1;33m(\u001b[0m\u001b[0mhandle\u001b[0m \u001b[1;32mand\u001b[0m \u001b[0mfeed_dict_tensor\u001b[0m\u001b[1;33m)\u001b[0m\u001b[1;33m:\u001b[0m\u001b[1;33m\u001b[0m\u001b[0m\n\u001b[0;32m   1139\u001b[0m       results = self._do_run(handle, final_targets, final_fetches,\n\u001b[1;32m-> 1140\u001b[1;33m                              feed_dict_tensor, options, run_metadata)\n\u001b[0m\u001b[0;32m   1141\u001b[0m     \u001b[1;32melse\u001b[0m\u001b[1;33m:\u001b[0m\u001b[1;33m\u001b[0m\u001b[0m\n\u001b[0;32m   1142\u001b[0m       \u001b[0mresults\u001b[0m \u001b[1;33m=\u001b[0m \u001b[1;33m[\u001b[0m\u001b[1;33m]\u001b[0m\u001b[1;33m\u001b[0m\u001b[0m\n",
      "\u001b[1;32mC:\\Anaconda\\lib\\site-packages\\tensorflow\\python\\client\\session.py\u001b[0m in \u001b[0;36m_do_run\u001b[1;34m(self, handle, target_list, fetch_list, feed_dict, options, run_metadata)\u001b[0m\n\u001b[0;32m   1319\u001b[0m     \u001b[1;32mif\u001b[0m \u001b[0mhandle\u001b[0m \u001b[1;32mis\u001b[0m \u001b[1;32mNone\u001b[0m\u001b[1;33m:\u001b[0m\u001b[1;33m\u001b[0m\u001b[0m\n\u001b[0;32m   1320\u001b[0m       return self._do_call(_run_fn, feeds, fetches, targets, options,\n\u001b[1;32m-> 1321\u001b[1;33m                            run_metadata)\n\u001b[0m\u001b[0;32m   1322\u001b[0m     \u001b[1;32melse\u001b[0m\u001b[1;33m:\u001b[0m\u001b[1;33m\u001b[0m\u001b[0m\n\u001b[0;32m   1323\u001b[0m       \u001b[1;32mreturn\u001b[0m \u001b[0mself\u001b[0m\u001b[1;33m.\u001b[0m\u001b[0m_do_call\u001b[0m\u001b[1;33m(\u001b[0m\u001b[0m_prun_fn\u001b[0m\u001b[1;33m,\u001b[0m \u001b[0mhandle\u001b[0m\u001b[1;33m,\u001b[0m \u001b[0mfeeds\u001b[0m\u001b[1;33m,\u001b[0m \u001b[0mfetches\u001b[0m\u001b[1;33m)\u001b[0m\u001b[1;33m\u001b[0m\u001b[0m\n",
      "\u001b[1;32mC:\\Anaconda\\lib\\site-packages\\tensorflow\\python\\client\\session.py\u001b[0m in \u001b[0;36m_do_call\u001b[1;34m(self, fn, *args)\u001b[0m\n\u001b[0;32m   1338\u001b[0m         \u001b[1;32mexcept\u001b[0m \u001b[0mKeyError\u001b[0m\u001b[1;33m:\u001b[0m\u001b[1;33m\u001b[0m\u001b[0m\n\u001b[0;32m   1339\u001b[0m           \u001b[1;32mpass\u001b[0m\u001b[1;33m\u001b[0m\u001b[0m\n\u001b[1;32m-> 1340\u001b[1;33m       \u001b[1;32mraise\u001b[0m \u001b[0mtype\u001b[0m\u001b[1;33m(\u001b[0m\u001b[0me\u001b[0m\u001b[1;33m)\u001b[0m\u001b[1;33m(\u001b[0m\u001b[0mnode_def\u001b[0m\u001b[1;33m,\u001b[0m \u001b[0mop\u001b[0m\u001b[1;33m,\u001b[0m \u001b[0mmessage\u001b[0m\u001b[1;33m)\u001b[0m\u001b[1;33m\u001b[0m\u001b[0m\n\u001b[0m\u001b[0;32m   1341\u001b[0m \u001b[1;33m\u001b[0m\u001b[0m\n\u001b[0;32m   1342\u001b[0m   \u001b[1;32mdef\u001b[0m \u001b[0m_extend_graph\u001b[0m\u001b[1;33m(\u001b[0m\u001b[0mself\u001b[0m\u001b[1;33m)\u001b[0m\u001b[1;33m:\u001b[0m\u001b[1;33m\u001b[0m\u001b[0m\n",
      "\u001b[1;31mInvalidArgumentError\u001b[0m: Input shapes do not match: [0,0] vs. [0,1]\n\t [[Node: module_apply_default_17/text_preprocessor/add_bigrams/StringJoin = StringJoin[N=2, separator=\"\\342\\226\\201\", _device=\"/job:localhost/replica:0/task:0/device:CPU:0\"](module_apply_default_17/text_preprocessor/add_bigrams/SparseToDense, module_apply_default_17/text_preprocessor/add_bigrams/concat)]]\n\t [[Node: module_apply_default_17/Encoder_en/Transformer/TransformerEncodeFast/encoder/layer_2/ffn/conv2/Tensordot/GatherV2/_2477 = _HostRecv[client_terminated=false, recv_device=\"/job:localhost/replica:0/task:0/device:GPU:0\", send_device=\"/job:localhost/replica:0/task:0/device:CPU:0\", send_device_incarnation=1, tensor_name=\"edge_1340_...t/GatherV2\", tensor_type=DT_INT32, _device=\"/job:localhost/replica:0/task:0/device:GPU:0\"]()]]\n\nCaused by op 'module_apply_default_17/text_preprocessor/add_bigrams/StringJoin', defined at:\n  File \"C:\\Anaconda\\lib\\runpy.py\", line 193, in _run_module_as_main\n    \"__main__\", mod_spec)\n  File \"C:\\Anaconda\\lib\\runpy.py\", line 85, in _run_code\n    exec(code, run_globals)\n  File \"C:\\Anaconda\\lib\\site-packages\\ipykernel\\__main__.py\", line 3, in <module>\n    app.launch_new_instance()\n  File \"C:\\Anaconda\\lib\\site-packages\\traitlets\\config\\application.py\", line 658, in launch_instance\n    app.start()\n  File \"C:\\Anaconda\\lib\\site-packages\\ipykernel\\kernelapp.py\", line 478, in start\n    self.io_loop.start()\n  File \"C:\\Anaconda\\lib\\site-packages\\zmq\\eventloop\\ioloop.py\", line 177, in start\n    super(ZMQIOLoop, self).start()\n  File \"C:\\Anaconda\\lib\\site-packages\\tornado\\ioloop.py\", line 888, in start\n    handler_func(fd_obj, events)\n  File \"C:\\Anaconda\\lib\\site-packages\\tornado\\stack_context.py\", line 277, in null_wrapper\n    return fn(*args, **kwargs)\n  File \"C:\\Anaconda\\lib\\site-packages\\zmq\\eventloop\\zmqstream.py\", line 440, in _handle_events\n    self._handle_recv()\n  File \"C:\\Anaconda\\lib\\site-packages\\zmq\\eventloop\\zmqstream.py\", line 472, in _handle_recv\n    self._run_callback(callback, msg)\n  File \"C:\\Anaconda\\lib\\site-packages\\zmq\\eventloop\\zmqstream.py\", line 414, in _run_callback\n    callback(*args, **kwargs)\n  File \"C:\\Anaconda\\lib\\site-packages\\tornado\\stack_context.py\", line 277, in null_wrapper\n    return fn(*args, **kwargs)\n  File \"C:\\Anaconda\\lib\\site-packages\\ipykernel\\kernelbase.py\", line 283, in dispatcher\n    return self.dispatch_shell(stream, msg)\n  File \"C:\\Anaconda\\lib\\site-packages\\ipykernel\\kernelbase.py\", line 233, in dispatch_shell\n    handler(stream, idents, msg)\n  File \"C:\\Anaconda\\lib\\site-packages\\ipykernel\\kernelbase.py\", line 399, in execute_request\n    user_expressions, allow_stdin)\n  File \"C:\\Anaconda\\lib\\site-packages\\ipykernel\\ipkernel.py\", line 208, in do_execute\n    res = shell.run_cell(code, store_history=store_history, silent=silent)\n  File \"C:\\Anaconda\\lib\\site-packages\\ipykernel\\zmqshell.py\", line 537, in run_cell\n    return super(ZMQInteractiveShell, self).run_cell(*args, **kwargs)\n  File \"C:\\Anaconda\\lib\\site-packages\\IPython\\core\\interactiveshell.py\", line 2728, in run_cell\n    interactivity=interactivity, compiler=compiler, result=result)\n  File \"C:\\Anaconda\\lib\\site-packages\\IPython\\core\\interactiveshell.py\", line 2850, in run_ast_nodes\n    if self.run_code(code, result):\n  File \"C:\\Anaconda\\lib\\site-packages\\IPython\\core\\interactiveshell.py\", line 2910, in run_code\n    exec(code_obj, self.user_global_ns, self.user_ns)\n  File \"<ipython-input-76-90b0f10e9b9d>\", line 11, in <module>\n    trp=session.run(UniversalEmbedding(tmp))\n  File \"<ipython-input-38-f266cdac2f08>\", line 3, in UniversalEmbedding\n    signature=\"default\", as_dict=True)[\"default\"]\n  File \"C:\\Anaconda\\lib\\site-packages\\tensorflow_hub\\module.py\", line 203, in __call__\n    name=name)\n  File \"C:\\Anaconda\\lib\\site-packages\\tensorflow_hub\\native_module.py\", line 447, in create_apply_graph\n    restore_collections_predicate=(lambda key: key in import_collections))\n  File \"C:\\Anaconda\\lib\\site-packages\\tensorflow\\python\\training\\saver.py\", line 1927, in import_meta_graph\n    **kwargs)\n  File \"C:\\Anaconda\\lib\\site-packages\\tensorflow\\python\\framework\\meta_graph.py\", line 741, in import_scoped_meta_graph\n    producer_op_list=producer_op_list)\n  File \"C:\\Anaconda\\lib\\site-packages\\tensorflow\\python\\util\\deprecation.py\", line 432, in new_func\n    return func(*args, **kwargs)\n  File \"C:\\Anaconda\\lib\\site-packages\\tensorflow\\python\\framework\\importer.py\", line 577, in import_graph_def\n    op_def=op_def)\n  File \"C:\\Anaconda\\lib\\site-packages\\tensorflow\\python\\framework\\ops.py\", line 3290, in create_op\n    op_def=op_def)\n  File \"C:\\Anaconda\\lib\\site-packages\\tensorflow\\python\\framework\\ops.py\", line 1654, in __init__\n    self._traceback = self._graph._extract_stack()  # pylint: disable=protected-access\n\nInvalidArgumentError (see above for traceback): Input shapes do not match: [0,0] vs. [0,1]\n\t [[Node: module_apply_default_17/text_preprocessor/add_bigrams/StringJoin = StringJoin[N=2, separator=\"\\342\\226\\201\", _device=\"/job:localhost/replica:0/task:0/device:CPU:0\"](module_apply_default_17/text_preprocessor/add_bigrams/SparseToDense, module_apply_default_17/text_preprocessor/add_bigrams/concat)]]\n\t [[Node: module_apply_default_17/Encoder_en/Transformer/TransformerEncodeFast/encoder/layer_2/ffn/conv2/Tensordot/GatherV2/_2477 = _HostRecv[client_terminated=false, recv_device=\"/job:localhost/replica:0/task:0/device:GPU:0\", send_device=\"/job:localhost/replica:0/task:0/device:CPU:0\", send_device_incarnation=1, tensor_name=\"edge_1340_...t/GatherV2\", tensor_type=DT_INT32, _device=\"/job:localhost/replica:0/task:0/device:GPU:0\"]()]]\n"
     ]
    }
   ],
   "source": [
    "test_posts_embed=[]\n",
    "batch_size=2000    \n",
    "with tf.Session() as session:\n",
    "  K.set_session(session)\n",
    "  session.run(tf.global_variables_initializer())\n",
    "  session.run(tf.tables_initializer())\n",
    "  arr = test_posts\n",
    "  start = time.time()\n",
    "  for i in range(0, round(len(arr) / batch_size + 1)):\n",
    "    tmp = arr[batch_size * i : batch_size * (i + 1)]\n",
    "    trp=session.run(UniversalEmbedding(tmp))                      \n",
    "    print(i)\n",
    "    if(len(test_posts_embed)==0):\n",
    "        test_posts_embed=trp\n",
    "    else:\n",
    "        test_posts_embed=np.concatenate((test_posts_embed,trp))\n",
    "  print(time.time() - start)\n",
    "  "
   ]
  },
  {
   "cell_type": "code",
   "execution_count": 78,
   "metadata": {},
   "outputs": [],
   "source": [
    "pd.DataFrame(train_posts_embed).to_csv(\"train_posts_embed.csv\",sep=\"~\")\n",
    "pd.DataFrame(test_posts_embed).to_csv(\"test_posts_embed.csv\",sep=\"~\")\n",
    "pd.DataFrame(train_tags).to_csv(\"train_tags.csv\",sep=\"~\")\n",
    "pd.DataFrame(test_tags).to_csv(\"test_tags.csv\",sep=\"~\")"
   ]
  }
 ],
 "metadata": {
  "kernelspec": {
   "display_name": "Python 3",
   "language": "python",
   "name": "python3"
  },
  "language_info": {
   "codemirror_mode": {
    "name": "ipython",
    "version": 3
   },
   "file_extension": ".py",
   "mimetype": "text/x-python",
   "name": "python",
   "nbconvert_exporter": "python",
   "pygments_lexer": "ipython3",
   "version": "3.5.6"
  }
 },
 "nbformat": 4,
 "nbformat_minor": 2
}
